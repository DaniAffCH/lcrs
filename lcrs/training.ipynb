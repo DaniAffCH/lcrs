{
 "cells": [
  {
   "cell_type": "code",
   "execution_count": 15,
   "metadata": {},
   "outputs": [],
   "source": [
    "from enum import Enum\n",
    "import os\n",
    "\n",
    "class Dataset(Enum):\n",
    "    D = \"dataset/task_D_D\"\n",
    "    ABC = \"dataset/task_ABC_D\"\n",
    "    ABCD = \"dataset/task_ABCD_D\"\n",
    "    debug = \"dataset/calvin_debug_dataset\""
   ]
  },
  {
   "cell_type": "code",
   "execution_count": 16,
   "metadata": {},
   "outputs": [],
   "source": [
    "selectedDataset = Dataset.debug"
   ]
  },
  {
   "cell_type": "code",
   "execution_count": 17,
   "metadata": {},
   "outputs": [
    {
     "name": "stdout",
     "output_type": "stream",
     "text": [
      "Dataset not found. Starting download...\n",
      "Starting training on debug\n"
     ]
    },
    {
     "name": "stderr",
     "output_type": "stream",
     "text": [
      "<3>WSL (8) ERROR: CreateProcessParseCommon:754: getpwuid(0) failed 2\n",
      "<3>WSL (8) ERROR: CreateProcessEntryCommon:331: getpwuid(0) failed 2\n",
      "<3>WSL (8) ERROR: CreateProcessEntryCommon:502: execvpe /bin/bash failed 2\n",
      "<3>WSL (8) ERROR: CreateProcessEntryCommon:505: Create process not expected to return\n",
      "Traceback (most recent call last):\n",
      "  File \"c:\\dev\\lcrs\\lcrs\\training.py\", line 1, in <module>\n",
      "    from calvin_agent.utils.utils import print_system_env_info, get_last_checkpoint, format_sftp_path\n",
      "ModuleNotFoundError: No module named 'calvin_agent'\n"
     ]
    }
   ],
   "source": [
    "if not os.path.exists(selectedDataset.value) or len(os.listdir(selectedDataset.value)) <= 0:\n",
    "  print(\"Dataset not found. Starting download...\")\n",
    "  !bash dataset/download_data.sh {selectedDataset.name}\n",
    "\n",
    "print(f\"Starting training on dataset {selectedDataset.name}...\")\n",
    "!python training.py datamodule.root_data_dir={selectedDataset.value}"
   ]
  }
 ],
 "metadata": {
  "kernelspec": {
   "display_name": "Python 3",
   "language": "python",
   "name": "python3"
  },
  "language_info": {
   "codemirror_mode": {
    "name": "ipython",
    "version": 3
   },
   "file_extension": ".py",
   "mimetype": "text/x-python",
   "name": "python",
   "nbconvert_exporter": "python",
   "pygments_lexer": "ipython3",
   "version": "3.10.11"
  }
 },
 "nbformat": 4,
 "nbformat_minor": 2
}
