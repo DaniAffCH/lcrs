{
 "cells": [
  {
   "cell_type": "code",
   "execution_count": null,
   "metadata": {},
   "outputs": [],
   "source": [
    "from enum import Enum\n",
    "import os\n",
    "\n",
    "class Dataset(Enum):\n",
    "    D = \"dataset/task_D_D\"\n",
    "    ABC = \"dataset/task_ABC_D\"\n",
    "    ABCD = \"dataset/task_ABCD_D\"\n",
    "    debug = \"dataset/calvin_debug_dataset\""
   ]
  },
  {
   "cell_type": "code",
   "execution_count": null,
   "metadata": {},
   "outputs": [],
   "source": [
    "#==================================================\n",
    "# SELECT DATASET YOU WANT TO USE FOR TRAINING HERE\n",
    "#==================================================\n",
    "selectedDataset = Dataset.debug"
   ]
  },
  {
   "cell_type": "code",
   "execution_count": null,
   "metadata": {},
   "outputs": [],
   "source": [
    "if not os.path.exists(selectedDataset.value) or len(os.listdir(selectedDataset.value)) <= 0:\n",
    "  print(\"Dataset not found. Starting download...\")\n",
    "  !cd dataset && bash download_data.sh {selectedDataset.name}\n",
    "\n",
    "print(f\"Starting training on dataset {selectedDataset.name}...\")\n",
    "!python lcrs/training.py datamodule.root_data_dir={selectedDataset.value}"
   ]
  }
 ],
 "metadata": {
  "kernelspec": {
   "display_name": "Python 3",
   "language": "python",
   "name": "python3"
  },
  "language_info": {
   "codemirror_mode": {
    "name": "ipython",
    "version": 3
   },
   "file_extension": ".py",
   "mimetype": "text/x-python",
   "name": "python",
   "nbconvert_exporter": "python",
   "pygments_lexer": "ipython3",
   "version": "3.10.11"
  }
 },
 "nbformat": 4,
 "nbformat_minor": 2
}
